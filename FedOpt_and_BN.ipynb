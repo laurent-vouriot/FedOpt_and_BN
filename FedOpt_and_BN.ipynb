{
 "cells": [
  {
   "cell_type": "markdown",
   "id": "e02c1757-72bc-42e0-8359-6a61a1956e79",
   "metadata": {
    "jp-MarkdownHeadingCollapsed": true
   },
   "source": [
    "# Federated optimization and some batch normalization strategies. \n",
    "``FedOpt`` (Reddi et al., 2020) is a generalisation of the baseline algorithm `FedAvg` (McMahan et al.). `FedOpt` rewrites the update rule of `FedAvg` and thus allows the usage of gradient descent based optimizers for the server update. More precisely, `FedAvg` update rule is the average of all the clients parameters : \n",
    "\n",
    "\\begin{align}\n",
    "    x_{t+1} = \\frac{1}{|\\mathcal{S}|} \\sum_{i \\in \\mathcal{S}} x_i^t\n",
    "\\end{align}\n",
    "\n",
    "With $x$ the global model's parameters ($x_i$ client $i$'s parameters)  $t$ being the current round and $\\mathcal{S}$ the set of sampled clients.\n",
    "\n",
    "This update rule can be written as : \n",
    "\n",
    "\\begin{align} \n",
    "    x_{t+1} = x_t - \\frac{1}{|\\mathcal{S}|} \\sum_{i \\in \\mathcal{S}} (x_t - x_i^t)\n",
    "\\end{align}\n",
    "\n",
    "which is somewhat analogous to gradient descent based optimization methods if we added a learning rate. Recall `SGD` update rule takes the form : \n",
    "\\begin{align}\n",
    "    x_{t+1} = x_t - \\eta \\nabla f_t(x_t) \n",
    "\\end{align} \n",
    "\n",
    "with $\\eta$ being the learning rate and $f_t(x_t)$ a loss function at time step $t$. Let $\\Delta_i^t = x_i^t - x_t$ represent the difference between a client and the current global model and $\\Delta_t = \\frac{1}{|\\mathcal{S}|} \\sum_{i \\in \\mathcal{S}} \\Delta_i^t$ represent the average of the local clients differences. Considering $\\Delta_t$ as pseudo gradient, we can apply `SGD` (or any gradient based optimizer) to update the global model at each rounds. \n",
    "Hence applying `SGD` with $-\\Delta_t$ and $\\eta = 1$ is equivalent to `FedAvg` : \n",
    "\n",
    "\\begin{align}\n",
    "    x_{t+1} & = x_t - 1 \\times - \\Delta_t  \\\\\n",
    "            & = x_t + \\Delta_t \\\\\n",
    "            &= x_t + \\frac{1}{|S|} \\sum_{i \\in S} (x_i^t - x_t)) \\\\\n",
    "            &= \\frac{1}{|S|} \\sum_{i \\in S} x_i^t \\tag{1} \n",
    "\\end{align} \n",
    "\n",
    "**Aggregation strategy** : instead of simply averaging the weights, one can compute a weighted average using client's local dataset sizes. \n",
    "\n",
    "\\begin{align}\n",
    "    x_{t+1} = x_t + \\frac{\\sum_{i \\in \\mathcal{S}} p_i \\Delta_i^t}{\\sum_{i \\in \\mathcal{S}} p_i} \\tag{2}\n",
    "\\end{align}"
   ]
  },
  {
   "cell_type": "markdown",
   "id": "78abe9e8-c6e2-4576-852a-ea8ca32d679a",
   "metadata": {},
   "source": [
    "# Imports"
   ]
  },
  {
   "cell_type": "code",
   "execution_count": 5,
   "id": "ccbd8aec-9298-4e93-9d90-b8b303556c23",
   "metadata": {},
   "outputs": [
    {
     "data": {
      "text/plain": [
       "'C:\\\\Users\\\\laurent.vouriot\\\\Documents\\\\Laurent\\\\working\\\\AntibioStat\\\\notebooks\\\\FL'"
      ]
     },
     "execution_count": 5,
     "metadata": {},
     "output_type": "execute_result"
    }
   ],
   "source": [
    "%pwd"
   ]
  },
  {
   "cell_type": "code",
   "execution_count": 6,
   "id": "bddf26d3-380e-4643-bf6a-0c2bc32ea3b9",
   "metadata": {},
   "outputs": [
    {
     "name": "stdout",
     "output_type": "stream",
     "text": [
      "C:\\Users\\laurent.vouriot\\Documents\\Laurent\\working\\AntibioStat\n"
     ]
    }
   ],
   "source": [
    "%cd ../../"
   ]
  },
  {
   "cell_type": "code",
   "execution_count": 7,
   "id": "ca2a8a92-d9f5-4f67-8da2-cece76ca9054",
   "metadata": {},
   "outputs": [],
   "source": [
    "import sys\n",
    "import os\n",
    "\n",
    "sys.path.append(os.path.abspath(os.path.join(os.getcwd(), \"src\")))"
   ]
  },
  {
   "cell_type": "code",
   "execution_count": 8,
   "id": "b0177c87-7dac-484d-ae41-f4bb2416bd7e",
   "metadata": {},
   "outputs": [],
   "source": [
    "import torch \n",
    "from torch.utils.data import DataLoader, Dataset, Subset\n",
    "from torchvision import datasets, transforms\n",
    "\n",
    "from matplotlib import pyplot as plt\n",
    "import numpy as np\n",
    "import pandas as pd"
   ]
  },
  {
   "cell_type": "code",
   "execution_count": 9,
   "id": "e00f00c9-2294-43cd-82f6-64bb375f1109",
   "metadata": {},
   "outputs": [
    {
     "data": {
      "text/plain": [
       "<torch._C.Generator at 0x2066b98fe50>"
      ]
     },
     "execution_count": 9,
     "metadata": {},
     "output_type": "execute_result"
    }
   ],
   "source": [
    "torch.manual_seed(42)"
   ]
  },
  {
   "attachments": {},
   "cell_type": "markdown",
   "id": "ad7a1584-fa0e-4a97-b5ae-e0246ac8dc45",
   "metadata": {},
   "source": [
    "# MNIST\n",
    "\n",
    "One of the most significant problems in the Federated Learning field, is the heterogenous data distribution clients. For our simulation, we will use MNIST data split in a non-IID fashion, generating a 2-silo non-IID dataset where each silo contains only specific classes.\n",
    "\n",
    "![IID vs non-IID data](figs/IID-vs-non-IID.png \"IID vs non-IID data\")\n",
    "\n",
    "*from Wireless for Machine Learning: a Survey, Hellström et al. 2020*"
   ]
  },
  {
   "cell_type": "code",
   "execution_count": 11,
   "id": "82ab3664-2ff2-4569-9707-8def2d0fe55a",
   "metadata": {},
   "outputs": [],
   "source": [
    "transform = transforms.Compose([transforms.ToTensor()])\n",
    "\n",
    "mnist_train = datasets.MNIST(root='./data', train=True, download=True, transform=transform)\n",
    "mnist_test  = datasets.MNIST(root='./data', train=False, download=True, transform=transform)\n",
    "\n",
    "def get_class_indices(dataset, class_label):\n",
    "    return [i for i, (x, y) in enumerate(dataset) if y == class_label]\n",
    "\n",
    "silo_1_classes = [0, 1, 2, 3, 4]\n",
    "silo_2_classes = [5, 6, 7, 8, 9]\n",
    "\n",
    "silo_1_indices = []\n",
    "silo_2_indices = []\n",
    "\n",
    "for cls in silo_1_classes:\n",
    "    silo_1_indices.extend(get_class_indices(mnist_train, cls))\n",
    "\n",
    "for cls in silo_2_classes:\n",
    "    silo_2_indices.extend(get_class_indices(mnist_train, cls))\n",
    "\n",
    "silo_1_data = Subset(mnist_train, silo_1_indices)\n",
    "silo_2_data = Subset(mnist_train, silo_2_indices)"
   ]
  },
  {
   "cell_type": "code",
   "execution_count": 13,
   "id": "106f3d29-38d1-4b1d-a330-28505b85dc87",
   "metadata": {},
   "outputs": [
    {
     "data": {
      "text/plain": [
       "(30596, 29404)"
      ]
     },
     "execution_count": 13,
     "metadata": {},
     "output_type": "execute_result"
    }
   ],
   "source": [
    "len(silo_1_data), len(silo_2_data)"
   ]
  },
  {
   "cell_type": "code",
   "execution_count": 14,
   "id": "965545d3-3f6b-4ed2-844b-8fe0d7e16c75",
   "metadata": {},
   "outputs": [],
   "source": [
    "random_indices = np.random.choice(range(len(silo_2_data)), 10)"
   ]
  },
  {
   "cell_type": "code",
   "execution_count": 21,
   "id": "68eea3f8-b163-421d-8792-f7dd04f2827f",
   "metadata": {},
   "outputs": [],
   "source": [
    "items_silo_1 = silo_1_data.__getitems__(random_indices)\n",
    "items_silo_2 = silo_2_data.__getitems__(random_indices)"
   ]
  },
  {
   "cell_type": "code",
   "execution_count": 22,
   "id": "d7df1235-5bc9-4431-9ca8-93111004510b",
   "metadata": {},
   "outputs": [
    {
     "data": {
      "image/png": "[encoded data removed]",
      "text/plain": [
       "<Figure size 1500x600 with 20 Axes>"
      ]
     },
     "metadata": {},
     "output_type": "display_data"
    }
   ],
   "source": [
    "fig, axs = plt.subplots(2, 10, figsize=(15, 6))\n",
    "for i, (image, label) in enumerate(items_silo_1):\n",
    "    axs[0, i].imshow(image.squeeze(), cmap='gray') \n",
    "    axs[0, i].axis('off')  \n",
    "\n",
    "for i, (image, label) in enumerate(items_silo_2):\n",
    "    axs[1, i].imshow(image.squeeze(), cmap='gray')  \n",
    "    axs[1, i].axis('off') \n",
    "\n",
    "plt.tight_layout()\n",
    "plt.show()"
   ]
  },
  {
   "cell_type": "markdown",
   "id": "e52f0f96-b75d-4fb5-968e-b07fd85680c2",
   "metadata": {},
   "source": [
    "# Helpers functions"
   ]
  },
  {
   "cell_type": "code",
   "execution_count": 33,
   "id": "4b2727b6-015f-4fe4-b150-e2098f5c1224",
   "metadata": {},
   "outputs": [],
   "source": [
    "def evaluate_model(model, test_set):\n",
    "    model.eval()  \n",
    "    total_loss = 0.0\n",
    "    correct = 0\n",
    "    total = 0\n",
    "\n",
    "    test_loader = DataLoader(test_set, batch_size=128, shuffle=True)\n",
    "    \n",
    "    with torch.no_grad():  \n",
    "        for inputs, labels in test_loader:\n",
    "            inputs = inputs.view(inputs.size(0), -1)  \n",
    "            \n",
    "            outputs = model(inputs)\n",
    "            \n",
    "            _, predicted = torch.max(outputs.data, 1)\n",
    "            \n",
    "            total += labels.size(0)\n",
    "            correct += (predicted == labels).sum().item()\n",
    "    \n",
    "    accuracy = correct / total * 100  \n",
    "    \n",
    "    return accuracy"
   ]
  },
  {
   "cell_type": "code",
   "execution_count": 75,
   "id": "ffa5294a-2522-4e0c-adb0-e4c4555ec21e",
   "metadata": {},
   "outputs": [],
   "source": [
    "def exp(algo, optim, verb=True, **kwargs):\n",
    "    \"\"\"\n",
    "        run a simulated federated learning experiment.\n",
    "    \"\"\"\n",
    "    global_model = Net()\n",
    "\n",
    "    client1 = Client('client1', Net(), silo_1_data)\n",
    "    client2 = Client('client2', Net(), silo_2_data)\n",
    "    \n",
    "    clients = [client1, client2] \n",
    "    \n",
    "    clientOpt = ClientOpt(epochs=kwargs['local_epochs'], lr=kwargs['client_lr'])\n",
    "    serverOpt = optim(global_model, kwargs['server_lr'])\n",
    "    global_model = algo(global_model, clients, clientOpt, serverOpt, kwargs['rounds'], verb=verb) \n",
    "    \n",
    "    results_g = evaluate_model(global_model, mnist_test)\n",
    "    results_c1 = evaluate_model(client1.model, mnist_test)\n",
    "    results_c2 = evaluate_model(client2.model, mnist_test)\n",
    "\n",
    "    return round(results_g), round(results_c1), round(results_c2)"
   ]
  },
  {
   "cell_type": "markdown",
   "id": "b20ab732-29e5-4475-b8d1-29053a05f274",
   "metadata": {},
   "source": [
    "# Model\n",
    "for this task we use a basic neural network composed of a dense layer and batch norm."
   ]
  },
  {
   "cell_type": "code",
   "execution_count": 26,
   "id": "aeac0599-5421-4876-9a02-6089def4b631",
   "metadata": {},
   "outputs": [],
   "source": [
    "class Net(torch.nn.Module):\n",
    "    def __init__(self):\n",
    "        super(Net, self).__init__()\n",
    "        self.fc1 = torch.nn.Linear(784, 128)  \n",
    "        self.bn1 = torch.nn.BatchNorm1d(128)  \n",
    "        self.fc2 = torch.nn.Linear(128, 10)  \n",
    "        self.relu = torch.nn.ReLU()  \n",
    "        self.softmax = torch.nn.Softmax(1) \n",
    "\n",
    "    def forward(self, x):\n",
    "        x = self.fc1(x)\n",
    "        x = self.bn1(x) \n",
    "        x = self.relu(x) \n",
    "        x = self.fc2(x)\n",
    "        x = self.softmax(x)  \n",
    "        return x"
   ]
  },
  {
   "cell_type": "markdown",
   "id": "b3ced29e-242d-4dc2-bdeb-8d4345e262d8",
   "metadata": {},
   "source": [
    "# The algorithm\n",
    "\n",
    "Below is the algorithm for FedOpt as defined in  [A Field Guide to Federated Optimization, Jianyu Wang et al. 2021](https://arxiv.org/abs/2107.06917)  which will serve as the basis for our implementation.\n",
    "\n",
    "![FedOpt](figs/FedOptAlg.PNG \"FedOpt\")"
   ]
  },
  {
   "cell_type": "code",
   "execution_count": 76,
   "id": "23c1e603-91f1-4fe1-837e-a5d874805aba",
   "metadata": {},
   "outputs": [],
   "source": [
    "class Client():\n",
    "    \"\"\"\n",
    "        Client class that embeds the model and the local dataset.\n",
    "    \"\"\"\n",
    "    def __init__(self, name, model, dataset):\n",
    "        self._name = name\n",
    "        self._model = model \n",
    "        self._dataset = dataset\n",
    "    \n",
    "    @property\n",
    "    def name(self):\n",
    "        return self._name\n",
    "\n",
    "    @property\n",
    "    def model(self):\n",
    "        return self._model\n",
    "\n",
    "    @property\n",
    "    def dataset(self):\n",
    "        return self._dataset"
   ]
  },
  {
   "cell_type": "code",
   "execution_count": 28,
   "id": "3dff537a-a1f6-4571-8b0f-57589376bb6b",
   "metadata": {},
   "outputs": [],
   "source": [
    "class ClientOpt():\n",
    "    \"\"\"\n",
    "        ClientOpt class, for local optimization of the client.\n",
    "    \"\"\"\n",
    "    def __init__(self, epochs=10, lr=0.001, batch_size=128, opt=torch.optim.SGD):\n",
    "        self.epochs = epochs\n",
    "        self.lr = lr\n",
    "        self.batch_size = batch_size\n",
    "        self.opt = opt\n",
    "\n",
    "    def step(self, model, train, verb=True):\n",
    "        model.train()  \n",
    "        optimizer = self.opt(model.parameters(), lr=self.lr)\n",
    "        criterion = torch.nn.CrossEntropyLoss() \n",
    "\n",
    "        train_loader = DataLoader(train, batch_size=128, shuffle=True)\n",
    "        \n",
    "        for epoch in range(self.epochs):\n",
    "            running_loss = 0.0\n",
    "            for inputs, labels in train_loader:\n",
    "                \n",
    "                inputs = inputs.view(inputs.size(0), -1)  # Flatten input\n",
    "                optimizer.zero_grad()\n",
    "                outputs = model(inputs)\n",
    "                loss = criterion(outputs, labels)\n",
    "                loss.backward()\n",
    "                optimizer.step()\n",
    "                running_loss += loss.item()\n",
    "            \n",
    "            avg_loss = running_loss / len(train_loader)\n",
    "            if verb:\n",
    "                print(f\"Epoch [{epoch+1}/{self.epochs}], Loss: {avg_loss:.4f}\")"
   ]
  },
  {
   "cell_type": "code",
   "execution_count": 29,
   "id": "25098d86-dd91-4e75-b8b7-7d807eb1a143",
   "metadata": {},
   "outputs": [],
   "source": [
    "class ServerOpt():\n",
    "    \"\"\"\n",
    "        Base class for server optimization. As we will see later, different optimizers can \n",
    "        be used on server side.\n",
    "    \"\"\"\n",
    "    def __init__(self, model, lr):\n",
    "        self.model = model\n",
    "        self.lr = lr\n",
    "\n",
    "    def step(self, aggregated_delta, t=None):\n",
    "        pass "
   ]
  },
  {
   "cell_type": "code",
   "execution_count": 30,
   "id": "e0891b55-83d6-4d5b-ad71-afc9d026ad5f",
   "metadata": {},
   "outputs": [],
   "source": [
    "class ServerSGD(ServerOpt):\n",
    "    \"\"\"\n",
    "        SGD optimizer, if lr=1, it is analogous to FedAvg.\n",
    "    \"\"\"\n",
    "    def __init__(self, model, lr=1):\n",
    "        super().__init__(model, lr)\n",
    "        \n",
    "    def step(self, aggregated_delta, t=None):\n",
    "        for param_name, delta in aggregated_delta.items():\n",
    "            self.model.state_dict()[param_name].add_(self.lr * delta)"
   ]
  },
  {
   "cell_type": "code",
   "execution_count": 31,
   "id": "c49c0148-7917-49af-8850-b976adddbed5",
   "metadata": {},
   "outputs": [],
   "source": [
    "def FedOpt(global_model, clients, clientOpt, serverOpt, rounds, verb=True):\n",
    "    # retrieving datasets length for aggregation weights.\n",
    "    total_samples = sum([len(client.dataset) for client in clients])\n",
    "    clients_samples = {client.name : len(client.dataset) for client in clients}\n",
    "    for round in range(rounds):\n",
    "        if verb:\n",
    "            print(f'Round {round+1}')\n",
    "\n",
    "        # central datastructure to store local deltas.\n",
    "        clients_delta = {\n",
    "            client.name : {\n",
    "                name : torch.zeros_like(params,) for name, params in global_model.state_dict().items()\n",
    "            } for client in clients\n",
    "        } \n",
    "        \n",
    "        for client in clients:\n",
    "            client.model.load_state_dict(global_model.state_dict())\n",
    "\n",
    "            clientOpt.step(client.model, client.dataset, verb=verb)\n",
    "            \n",
    "            # local changes\n",
    "            for name in client.model.state_dict().keys():\n",
    "                delta = client.model.state_dict()[name] - global_model.state_dict()[name]\n",
    "                clients_delta[client.name][name] = delta\n",
    "        \n",
    "        aggregated_delta = {name : torch.zeros_like(params) for name, params in global_model.state_dict().items()}\n",
    "\n",
    "        # aggregate local changes\n",
    "        for client_name, local_delta in clients_delta.items():\n",
    "            for param_name in local_delta.keys():\n",
    "                tmp =  (local_delta[param_name] * clients_samples[client_name] / total_samples)\n",
    "                tmp = tmp.to(aggregated_delta[param_name].dtype)\n",
    "                aggregated_delta[param_name] += tmp\n",
    "\n",
    "        # update global model\n",
    "        serverOpt.step(aggregated_delta, round+1)\n",
    "    \n",
    "    clients_delta.clear()\n",
    "    aggregated_delta.clear()\n",
    "\n",
    "    [client.model.load_state_dict(global_model.state_dict()) for client in clients]\n",
    "        \n",
    "    return global_model"
   ]
  },
  {
   "cell_type": "code",
   "execution_count": 65,
   "id": "ee604ef8-ad7e-4eb3-8b57-384d847fd3e0",
   "metadata": {},
   "outputs": [
    {
     "name": "stdout",
     "output_type": "stream",
     "text": [
      "Round 1\n",
      "Epoch [1/2], Loss: 2.3139\n",
      "Epoch [2/2], Loss: 2.2718\n",
      "Epoch [1/2], Loss: 2.2811\n",
      "Epoch [2/2], Loss: 2.2361\n",
      "Round 2\n",
      "Epoch [1/2], Loss: 2.2694\n",
      "Epoch [2/2], Loss: 2.1776\n",
      "Epoch [1/2], Loss: 2.2391\n",
      "Epoch [2/2], Loss: 2.1710\n",
      "Round 3\n",
      "Epoch [1/2], Loss: 2.1737\n",
      "Epoch [2/2], Loss: 2.0480\n",
      "Epoch [1/2], Loss: 2.1859\n",
      "Epoch [2/2], Loss: 2.1115\n",
      "Round 4\n",
      "Epoch [1/2], Loss: 2.0694\n",
      "Epoch [2/2], Loss: 1.9678\n",
      "Epoch [1/2], Loss: 2.1414\n",
      "Epoch [2/2], Loss: 2.0724\n",
      "Round 5\n",
      "Epoch [1/2], Loss: 1.9999\n",
      "Epoch [2/2], Loss: 1.9230\n",
      "Epoch [1/2], Loss: 2.1071\n",
      "Epoch [2/2], Loss: 2.0436\n",
      "Round 6\n",
      "Epoch [1/2], Loss: 1.9537\n",
      "Epoch [2/2], Loss: 1.8885\n",
      "Epoch [1/2], Loss: 2.0783\n",
      "Epoch [2/2], Loss: 2.0182\n",
      "Round 7\n",
      "Epoch [1/2], Loss: 1.9178\n",
      "Epoch [2/2], Loss: 1.8599\n",
      "Epoch [1/2], Loss: 2.0522\n",
      "Epoch [2/2], Loss: 1.9927\n",
      "Round 8\n",
      "Epoch [1/2], Loss: 1.8883\n",
      "Epoch [2/2], Loss: 1.8350\n",
      "Epoch [1/2], Loss: 2.0264\n",
      "Epoch [2/2], Loss: 1.9669\n",
      "Round 9\n",
      "Epoch [1/2], Loss: 1.8652\n",
      "Epoch [2/2], Loss: 1.8149\n",
      "Epoch [1/2], Loss: 2.0014\n",
      "Epoch [2/2], Loss: 1.9421\n",
      "Round 10\n",
      "Epoch [1/2], Loss: 1.8445\n",
      "Epoch [2/2], Loss: 1.7988\n",
      "Epoch [1/2], Loss: 1.9760\n",
      "Epoch [2/2], Loss: 1.9177\n",
      "global acc : 67, client1 acc : 67, client2 acc : 67\n"
     ]
    }
   ],
   "source": [
    "global_acc, client1_acc, client2_acc = exp(FedOpt, ServerSGD, verb=True, local_epochs=2, rounds=10, client_lr=0.001, server_lr=1)\n",
    "print(f'global acc : {global_acc}, client1 acc : {client1_acc}, client2 acc : {client2_acc}')"
   ]
  },
  {
   "cell_type": "markdown",
   "id": "bc0253cb-c841-4cc5-93f2-9f9164d4c1fc",
   "metadata": {},
   "source": [
    "Results are not good, longer training and hyperparameters tuning should ameliorate the results. Also, local models are just copy of the global model, so no personalization."
   ]
  },
  {
   "cell_type": "markdown",
   "id": "4d4d5024-d28f-4375-bae6-d7eea9993341",
   "metadata": {},
   "source": [
    "# Some strategies with batch norm"
   ]
  },
  {
   "cell_type": "markdown",
   "id": "7cb5273a-12f5-406b-bc78-acb2093d7882",
   "metadata": {},
   "source": [
    "When using `FedOpt` with the server learning rate set to 1 (i.e., equivalent to `FedAvg`), all model parameters, including the local statistics of batch normalization layers, are averaged. This averaging can potentially slow down generalization, as the averaged batch statistics may erase the local specificities of each silo. "
   ]
  },
  {
   "cell_type": "markdown",
   "id": "64b3789f-8afb-457d-bb69-c95ae403ebfa",
   "metadata": {},
   "source": [
    "## SiloBN"
   ]
  },
  {
   "cell_type": "markdown",
   "id": "00757fb5-8128-4464-afb9-5f15ec9ce722",
   "metadata": {},
   "source": [
    "SiloBN ([Siloed federated learning for multi-centric histopathology datasets, Andreux et al. 2020](https://arxiv.org/abs/2008.07424))\n",
    "essentially shares the learnable parameters of batch normalization layers, while keeping the batch normalization statistics local to each client. This approach allows for somewhat personalized models that are better adapted to local datasets while still benefiting from shared general knowledge."
   ]
  },
  {
   "cell_type": "markdown",
   "id": "73db7e08-abb9-488d-b713-215baafad0a6",
   "metadata": {},
   "source": [
    "![SiloBN](figs/SiloBN.png \"SiloBN\")"
   ]
  },
  {
   "cell_type": "code",
   "execution_count": 46,
   "id": "ec16c697-7378-4cfb-a148-0eda26556660",
   "metadata": {},
   "outputs": [],
   "source": [
    "def SiloBN(global_model, clients, clientOpt, serverOpt, rounds=50, verb=True):\n",
    "    \n",
    "    total_samples = sum([len(client.dataset) for client in clients])\n",
    "    clients_samples = {client.name : len(client.dataset) for client in clients}\n",
    "\n",
    "    # datastructure to keep in memory local bn statistics.\n",
    "    clients_local_bn_stats = {\n",
    "        client.name : {\n",
    "            param_name : params for param_name, params in client.model.named_buffers() \n",
    "        } for client in clients\n",
    "    }\n",
    "    for round in range(rounds):\n",
    "        if verb:\n",
    "            print(f'Round {round+1}')\n",
    "        \n",
    "        # local deltas.\n",
    "        clients_delta = {\n",
    "            client.name : {\n",
    "                name : torch.zeros_like(params) for name, params in global_model.named_parameters()\n",
    "            } for client in clients\n",
    "        } \n",
    "        \n",
    "        for client in clients:\n",
    "            if round != 0:\n",
    "                # loading global model and previous round's local bn statistics.\n",
    "                client.model.load_state_dict(global_model.state_dict(), strict=False)  \n",
    "                client.model.state_dict().update(clients_local_bn_stats[client.name])  \n",
    "            else:\n",
    "                client.model.load_state_dict(global_model.state_dict())\n",
    "\n",
    "            clientOpt.step(client.model, client.dataset, verb=verb)\n",
    "           \n",
    "            # save local bn stats after local update\n",
    "            for name, stats in client.model.named_buffers():\n",
    "                clients_local_bn_stats[client.name][name].copy_(stats)\n",
    "            \n",
    "            # compute local changes, only on learnable parameters.\n",
    "            for name, _ in client.model.named_parameters():\n",
    "                delta = client.model.state_dict()[name] - global_model.state_dict()[name]\n",
    "                clients_delta[client.name][name] = delta\n",
    "\n",
    "        aggregated_delta = {name : torch.zeros_like(params) for name, params in global_model.named_parameters()}\n",
    "\n",
    "        # aggregate local changes.\n",
    "        for client_name, local_delta in clients_delta.items():\n",
    "            for param_name in local_delta.keys():\n",
    "                tmp =  (local_delta[param_name] * clients_samples[client_name] / total_samples)\n",
    "                tmp = tmp.to(aggregated_delta[param_name].dtype)\n",
    "                aggregated_delta[param_name] += tmp\n",
    "            \n",
    "        serverOpt.step(aggregated_delta, round+1)\n",
    "        \n",
    "    return global_model"
   ]
  },
  {
   "cell_type": "code",
   "execution_count": 66,
   "id": "4737706a-8a48-43aa-88ef-8612981c0fa7",
   "metadata": {},
   "outputs": [
    {
     "name": "stdout",
     "output_type": "stream",
     "text": [
      "Round 1\n",
      "Epoch [1/2], Loss: 2.2753\n",
      "Epoch [2/2], Loss: 2.1979\n",
      "Epoch [1/2], Loss: 2.2871\n",
      "Epoch [2/2], Loss: 2.2481\n",
      "Round 2\n",
      "Epoch [1/2], Loss: 2.1953\n",
      "Epoch [2/2], Loss: 2.0995\n",
      "Epoch [1/2], Loss: 2.2558\n",
      "Epoch [2/2], Loss: 2.1952\n",
      "Round 3\n",
      "Epoch [1/2], Loss: 2.1120\n",
      "Epoch [2/2], Loss: 2.0158\n",
      "Epoch [1/2], Loss: 2.2121\n",
      "Epoch [2/2], Loss: 2.1343\n",
      "Round 4\n",
      "Epoch [1/2], Loss: 2.0400\n",
      "Epoch [2/2], Loss: 1.9525\n",
      "Epoch [1/2], Loss: 2.1618\n",
      "Epoch [2/2], Loss: 2.0774\n",
      "Round 5\n",
      "Epoch [1/2], Loss: 1.9805\n",
      "Epoch [2/2], Loss: 1.8964\n",
      "Epoch [1/2], Loss: 2.1114\n",
      "Epoch [2/2], Loss: 2.0299\n",
      "Round 6\n",
      "Epoch [1/2], Loss: 1.9288\n",
      "Epoch [2/2], Loss: 1.8520\n",
      "Epoch [1/2], Loss: 2.0687\n",
      "Epoch [2/2], Loss: 1.9957\n",
      "Round 7\n",
      "Epoch [1/2], Loss: 1.8845\n",
      "Epoch [2/2], Loss: 1.8170\n",
      "Epoch [1/2], Loss: 2.0355\n",
      "Epoch [2/2], Loss: 1.9707\n",
      "Round 8\n",
      "Epoch [1/2], Loss: 1.8503\n",
      "Epoch [2/2], Loss: 1.7922\n",
      "Epoch [1/2], Loss: 2.0092\n",
      "Epoch [2/2], Loss: 1.9502\n",
      "Round 9\n",
      "Epoch [1/2], Loss: 1.8240\n",
      "Epoch [2/2], Loss: 1.7698\n",
      "Epoch [1/2], Loss: 1.9870\n",
      "Epoch [2/2], Loss: 1.9325\n",
      "Round 10\n",
      "Epoch [1/2], Loss: 1.7986\n",
      "Epoch [2/2], Loss: 1.7499\n",
      "Epoch [1/2], Loss: 1.9682\n",
      "Epoch [2/2], Loss: 1.9162\n",
      "client1 acc : 64, client2 acc : 68\n"
     ]
    }
   ],
   "source": [
    "_, client1_acc, client2_acc = exp(SiloBN, ServerSGD, verb=True, local_epochs=2, rounds=10, client_lr=0.001, server_lr=1)\n",
    "print(f'client1 acc : {client1_acc}, client2 acc : {client2_acc}')"
   ]
  },
  {
   "cell_type": "markdown",
   "id": "b149dcb0-98b4-4ee0-ae70-8810a418661b",
   "metadata": {},
   "source": [
    "Nothing better"
   ]
  },
  {
   "cell_type": "markdown",
   "id": "c6e6645a-3db5-4335-af62-a7ac3a4d3427",
   "metadata": {},
   "source": [
    "## FedBN\n",
    "FedBN ([FedBN: Federated Learning on Non-IID Features via Local Batch Normalization, Li et al. 2021](https://arxiv.org/abs/2102.07623))is a federated learning approach where all batch normalization parameters, including the learnable parameters (e.g., scale and shift parameters) and the running statistics (e.g., mean and variance), are kept local to each client."
   ]
  },
  {
   "cell_type": "markdown",
   "id": "4d4b4c94-0dcb-4f2b-9f5f-2b958108d9fd",
   "metadata": {},
   "source": [
    "![FedBN](figs/FedBN.png \"FedBN algorithm\")"
   ]
  },
  {
   "cell_type": "code",
   "execution_count": 47,
   "id": "a44b691b-5529-4f48-b17a-6d4eb66738aa",
   "metadata": {},
   "outputs": [],
   "source": [
    "def FedBN(global_model, clients, clientOpt, serverOpt, rounds=50, verb=True):\n",
    "    \n",
    "    # datastructure to keep in memory local bn statistics.\n",
    "    clients_local_bn_stats = {\n",
    "        client.name: {\n",
    "            param_name: params for param_name, params in client.model.state_dict().items() if 'bn' in param_name\n",
    "        } for client in clients\n",
    "    }\n",
    "    \n",
    "    total_samples = sum([len(client.dataset) for client in clients])\n",
    "    clients_samples = {client.name : len(client.dataset) for client in clients}\n",
    "\n",
    "    for round in range(rounds):\n",
    "        if verb:\n",
    "            print(f'Round {round+1}')\n",
    "\n",
    "        # local deltas\n",
    "        clients_delta = {\n",
    "            client.name : {\n",
    "                name : torch.zeros_like(params) for name, params in global_model.state_dict().items() if 'bn' not in name\n",
    "            } for client in clients\n",
    "        } \n",
    "        \n",
    "        for client in clients:\n",
    "            # load global model and previous round's local bn statistics.\n",
    "            client.model.load_state_dict(global_model.state_dict(), strict=False) \n",
    "            client.model.state_dict().update(clients_local_bn_stats[client.name])  \n",
    "\n",
    "            clientOpt.step(client.model, client.dataset, verb=verb)\n",
    "           \n",
    "            # save local bn stats \n",
    "            for name, stats in client.model.state_dict().items():\n",
    "                if 'bn' in name: \n",
    "                    clients_local_bn_stats[client.name][name].copy_(stats)\n",
    "            \n",
    "            # local changes, bn layers are excluded\n",
    "            for name in client.model.state_dict().keys():\n",
    "                if 'bn' not in name:\n",
    "                    delta = client.model.state_dict()[name] - global_model.state_dict()[name]\n",
    "                    clients_delta[client.name][name] = delta\n",
    "        \n",
    "        aggregated_delta = {name : torch.zeros_like(params, device='cpu') for name, params in global_model.state_dict().items() if 'bn' not in name}\n",
    "        \n",
    "        # aggregate local changes.\n",
    "        for client_name, local_delta in clients_delta.items():\n",
    "            for param_name in local_delta.keys():\n",
    "                tmp =  (local_delta[param_name] * clients_samples[client_name] / total_samples)\n",
    "                tmp = tmp.to(aggregated_delta[param_name].dtype)\n",
    "                aggregated_delta[param_name] += tmp\n",
    "            \n",
    "        serverOpt.step(aggregated_delta, round+1)\n",
    "    return global_model"
   ]
  },
  {
   "cell_type": "code",
   "execution_count": 68,
   "id": "2cfa6ca2-7e54-4eaf-9ee0-e14f03a67dc1",
   "metadata": {},
   "outputs": [
    {
     "name": "stdout",
     "output_type": "stream",
     "text": [
      "Round 1\n",
      "Epoch [1/2], Loss: 2.2746\n",
      "Epoch [2/2], Loss: 2.1991\n",
      "Epoch [1/2], Loss: 2.2926\n",
      "Epoch [2/2], Loss: 2.2515\n",
      "Round 2\n",
      "Epoch [1/2], Loss: 2.1930\n",
      "Epoch [2/2], Loss: 2.0727\n",
      "Epoch [1/2], Loss: 2.2581\n",
      "Epoch [2/2], Loss: 2.1980\n",
      "Round 3\n",
      "Epoch [1/2], Loss: 2.0834\n",
      "Epoch [2/2], Loss: 1.9611\n",
      "Epoch [1/2], Loss: 2.2192\n",
      "Epoch [2/2], Loss: 2.1555\n",
      "Round 4\n",
      "Epoch [1/2], Loss: 1.9867\n",
      "Epoch [2/2], Loss: 1.8786\n",
      "Epoch [1/2], Loss: 2.1875\n",
      "Epoch [2/2], Loss: 2.1218\n",
      "Round 5\n",
      "Epoch [1/2], Loss: 1.9116\n",
      "Epoch [2/2], Loss: 1.8231\n",
      "Epoch [1/2], Loss: 2.1589\n",
      "Epoch [2/2], Loss: 2.0877\n",
      "Round 6\n",
      "Epoch [1/2], Loss: 1.8590\n",
      "Epoch [2/2], Loss: 1.7826\n",
      "Epoch [1/2], Loss: 2.1270\n",
      "Epoch [2/2], Loss: 2.0520\n",
      "Round 7\n",
      "Epoch [1/2], Loss: 1.8207\n",
      "Epoch [2/2], Loss: 1.7548\n",
      "Epoch [1/2], Loss: 2.0929\n",
      "Epoch [2/2], Loss: 2.0187\n",
      "Round 8\n",
      "Epoch [1/2], Loss: 1.7920\n",
      "Epoch [2/2], Loss: 1.7331\n",
      "Epoch [1/2], Loss: 2.0603\n",
      "Epoch [2/2], Loss: 1.9898\n",
      "Round 9\n",
      "Epoch [1/2], Loss: 1.7704\n",
      "Epoch [2/2], Loss: 1.7176\n",
      "Epoch [1/2], Loss: 2.0302\n",
      "Epoch [2/2], Loss: 1.9648\n",
      "Round 10\n",
      "Epoch [1/2], Loss: 1.7529\n",
      "Epoch [2/2], Loss: 1.7034\n",
      "Epoch [1/2], Loss: 2.0042\n",
      "Epoch [2/2], Loss: 1.9431\n",
      "client1 acc : 65, client2 acc : 71\n"
     ]
    }
   ],
   "source": [
    "_, client1_acc, client2_acc = exp(FedBN, ServerSGD, verb=True, local_epochs=2, rounds=10, client_lr=0.001, server_lr=1)\n",
    "print(f'client1 acc : {client1_acc}, client2 acc : {client2_acc}')"
   ]
  },
  {
   "cell_type": "markdown",
   "id": "4404188e-aa45-4333-8b8b-f7db1c2ae416",
   "metadata": {},
   "source": [
    "Some improvments for client2, but still slow convergence..."
   ]
  },
  {
   "cell_type": "markdown",
   "id": "5df7d9ba-0ffc-4120-a75b-4d3e1de85059",
   "metadata": {},
   "source": [
    "# ServerOpts"
   ]
  },
  {
   "cell_type": "markdown",
   "id": "9ed4782b-a7d3-4ece-acf4-a7ee6a47b499",
   "metadata": {},
   "source": [
    "As mentioned previously, `FedOpt` allows the use of gradient-descent-based optimizers on the server side. Until now, we have used approaches with the server learning rate set to 1, analogous to `FedAvg`. Due to local batch normalization statistics, server optimization with a learning rate different from 1 was complex, but with the previously discussed batch normalization strategies, we can now use optimizers on the server side!\n",
    "\n"
   ]
  },
  {
   "cell_type": "markdown",
   "id": "bec960dc-0c7f-4b07-8471-6986139d63fc",
   "metadata": {},
   "source": [
    "![ServerOpts](figs/AdaptativeFed.png \"Adaptative Federated Optimization\")"
   ]
  },
  {
   "cell_type": "markdown",
   "id": "6a5ba45e-17d9-4e23-9f0b-992b74e69a54",
   "metadata": {},
   "source": [
    " Here are the optimizers mentioned in Adaptative Federated Optimization, including additional bias correction for `Yogi`and `Adam`."
   ]
  },
  {
   "cell_type": "code",
   "execution_count": 49,
   "id": "91dd8ea7-f9e2-48d7-a595-036486752fb5",
   "metadata": {},
   "outputs": [],
   "source": [
    "class ServerAdagrad(ServerOpt):\n",
    "    def __init__(self, model, lr=0.01, beta_1=0.9, tau=0.0001):\n",
    "        super().__init__(model, lr)\n",
    "        self.beta_1 = beta_1\n",
    "        self.tau = tau\n",
    "\n",
    "        self.mt = {name: torch.zeros_like(param) for name, param in model.state_dict().items()}\n",
    "        self.vt = {name: torch.zeros_like(param) for name, param in model.state_dict().items()}\n",
    "        \n",
    "    def step(self, aggregated_delta, t=None):\n",
    "        for param_name, delta in aggregated_delta.items():\n",
    "            self.mt[param_name] = self.beta_1 * self.mt[param_name] + (1 - self.beta_1) * delta\n",
    "            self.vt[param_name] += delta**2\n",
    "            \n",
    "            adjusted_lr = self.lr / (torch.sqrt(self.vt[param_name]) + self.tau)\n",
    "            self.model.state_dict()[param_name].add_(adjusted_lr * self.mt[param_name])"
   ]
  },
  {
   "cell_type": "code",
   "execution_count": 69,
   "id": "9af459a9-c873-4e36-b25a-fd59089372d8",
   "metadata": {},
   "outputs": [],
   "source": [
    "class ServerYogi(ServerOpt):\n",
    "    def __init__(self, model, lr=0.01, beta_1=0.9, beta_2=0.99, tau=0.0001):\n",
    "        super().__init__(model, lr)\n",
    "        self.beta_1 = beta_1\n",
    "        self.beta_2 = beta_2\n",
    "        self.tau = tau\n",
    "        \n",
    "        self.mt = {name: torch.zeros_like(param) for name, param in model.state_dict().items()}\n",
    "        self.vt = {name: torch.zeros_like(param) for name, param in model.state_dict().items()}\n",
    "\n",
    "    def step(self, aggregated_delta, t=None):\n",
    "        for param_name, delta in aggregated_delta.items():\n",
    "            self.mt[param_name] = self.beta_1 * self.mt[param_name] + (1 - self.beta_1) * delta\n",
    "            self.vt[param_name] -= (1 - self.beta_2) * delta**2 * torch.sign(self.vt[param_name] - delta**2)\n",
    "\n",
    "            # bias correction\n",
    "            mt_hat = self.mt[param_name] / (1 - self.beta_1**t)\n",
    "            vt_hat = self.vt[param_name] / (1 - self.beta_2**t)\n",
    "            \n",
    "            adjusted_lr = self.lr / (torch.sqrt(self.vt[param_name]) + self.tau)\n",
    "            self.model.state_dict()[param_name].add_(adjusted_lr * self.mt[param_name])"
   ]
  },
  {
   "cell_type": "code",
   "execution_count": 70,
   "id": "4a357d40-33ad-4c9e-b106-c593d6aabd52",
   "metadata": {},
   "outputs": [],
   "source": [
    "class ServerAdam(ServerOpt):\n",
    "    def __init__(self, model, lr=0.01, beta_1=0.9, beta_2=0.99, tau=0.0001):\n",
    "        super().__init__(model, lr)\n",
    "        self.beta_1 = beta_1\n",
    "        self.beta_2 = beta_2\n",
    "        self.tau = tau\n",
    "        \n",
    "        self.mt = {name: torch.zeros_like(param) for name, param in model.state_dict().items()}\n",
    "        self.vt = {name: torch.zeros_like(param) for name, param in model.state_dict().items()}\n",
    "\n",
    "    def step(self, aggregated_delta, t=None):\n",
    "        for param_name, delta in aggregated_delta.items():\n",
    "            self.mt[param_name] = self.beta_1 * self.mt[param_name] + (1 - self.beta_1) * delta\n",
    "            self.vt[param_name] = self.beta_2 * self.vt[param_name] + (1 - self.beta_2) * delta**2  \n",
    "\n",
    "            # bias correction\n",
    "            mt_hat = self.mt[param_name] / (1 - self.beta_1**t)\n",
    "            vt_hat = self.vt[param_name] / (1 - self.beta_2**t)\n",
    "            \n",
    "            adjusted_lr = self.lr / (torch.sqrt(vt_hat) + self.tau)\n",
    "            self.model.state_dict()[param_name].add_(adjusted_lr * mt_hat)"
   ]
  },
  {
   "cell_type": "markdown",
   "id": "37ee1382-1736-4b81-9387-164082f17860",
   "metadata": {},
   "source": [
    "What happens if we apply those optimizers with a strategy that handles batch-norm  ? "
   ]
  },
  {
   "cell_type": "code",
   "execution_count": 71,
   "id": "3d778ba2-4db3-4bcc-a66e-02b1b6774c24",
   "metadata": {},
   "outputs": [
    {
     "name": "stdout",
     "output_type": "stream",
     "text": [
      "Round 1\n",
      "Epoch [1/2], Loss: 2.2780\n",
      "Epoch [2/2], Loss: 2.1982\n",
      "Epoch [1/2], Loss: 2.2836\n",
      "Epoch [2/2], Loss: 2.2419\n",
      "Round 2\n",
      "Epoch [1/2], Loss: 2.0158\n",
      "Epoch [2/2], Loss: 1.9306\n",
      "Epoch [1/2], Loss: 2.1311\n",
      "Epoch [2/2], Loss: 2.0536\n",
      "Round 3\n",
      "Epoch [1/2], Loss: 1.8562\n",
      "Epoch [2/2], Loss: 1.8014\n",
      "Epoch [1/2], Loss: 2.0157\n",
      "Epoch [2/2], Loss: 1.9664\n",
      "Round 4\n",
      "Epoch [1/2], Loss: 1.7722\n",
      "Epoch [2/2], Loss: 1.7312\n",
      "Epoch [1/2], Loss: 1.9529\n",
      "Epoch [2/2], Loss: 1.9200\n",
      "Round 5\n",
      "Epoch [1/2], Loss: 1.7117\n",
      "Epoch [2/2], Loss: 1.6833\n",
      "Epoch [1/2], Loss: 1.9067\n",
      "Epoch [2/2], Loss: 1.8800\n",
      "Round 6\n",
      "Epoch [1/2], Loss: 1.6668\n",
      "Epoch [2/2], Loss: 1.6503\n",
      "Epoch [1/2], Loss: 1.8648\n",
      "Epoch [2/2], Loss: 1.8400\n",
      "Round 7\n",
      "Epoch [1/2], Loss: 1.6380\n",
      "Epoch [2/2], Loss: 1.6259\n",
      "Epoch [1/2], Loss: 1.8231\n",
      "Epoch [2/2], Loss: 1.7994\n",
      "Round 8\n",
      "Epoch [1/2], Loss: 1.6183\n",
      "Epoch [2/2], Loss: 1.6087\n",
      "Epoch [1/2], Loss: 1.7782\n",
      "Epoch [2/2], Loss: 1.7580\n",
      "Round 9\n",
      "Epoch [1/2], Loss: 1.6096\n",
      "Epoch [2/2], Loss: 1.5992\n",
      "Epoch [1/2], Loss: 1.7356\n",
      "Epoch [2/2], Loss: 1.7199\n",
      "Round 10\n",
      "Epoch [1/2], Loss: 1.6013\n",
      "Epoch [2/2], Loss: 1.5933\n",
      "Epoch [1/2], Loss: 1.6989\n",
      "Epoch [2/2], Loss: 1.6884\n",
      "client1 acc : 84, client2 acc : 85\n"
     ]
    }
   ],
   "source": [
    "_, client1_acc, client2_acc = exp(FedBN, ServerYogi, verb=True, local_epochs=2, rounds=10, client_lr=0.001, server_lr=0.01)\n",
    "print(f'client1 acc : {client1_acc}, client2 acc : {client2_acc}')"
   ]
  },
  {
   "cell_type": "markdown",
   "id": "a7c040dc-19bb-40e8-8dca-168a9bc40cdf",
   "metadata": {},
   "source": [
    "Way better ! Let's try all of them "
   ]
  },
  {
   "cell_type": "code",
   "execution_count": 72,
   "id": "7ef5f6be-dcf4-46e3-93cb-34ff2b4cf7a3",
   "metadata": {},
   "outputs": [
    {
     "data": {
      "text/html": [
       "<div>\n",
       "<style scoped>\n",
       "    .dataframe tbody tr th:only-of-type {\n",
       "        vertical-align: middle;\n",
       "    }\n",
       "\n",
       "    .dataframe tbody tr th {\n",
       "        vertical-align: top;\n",
       "    }\n",
       "\n",
       "    .dataframe thead th {\n",
       "        text-align: right;\n",
       "    }\n",
       "</style>\n",
       "<table border=\"1\" class=\"dataframe\">\n",
       "  <thead>\n",
       "    <tr style=\"text-align: right;\">\n",
       "      <th></th>\n",
       "      <th>Adagrad</th>\n",
       "      <th>Yogi</th>\n",
       "      <th>Adam</th>\n",
       "    </tr>\n",
       "  </thead>\n",
       "  <tbody>\n",
       "    <tr>\n",
       "      <th>SiloBN</th>\n",
       "      <td>(68, 77)</td>\n",
       "      <td>(85, 85)</td>\n",
       "      <td>(84, 86)</td>\n",
       "    </tr>\n",
       "    <tr>\n",
       "      <th>FedBN</th>\n",
       "      <td>(70, 78)</td>\n",
       "      <td>(85, 83)</td>\n",
       "      <td>(82, 85)</td>\n",
       "    </tr>\n",
       "  </tbody>\n",
       "</table>\n",
       "</div>"
      ],
      "text/plain": [
       "         Adagrad      Yogi      Adam\n",
       "SiloBN  (68, 77)  (85, 85)  (84, 86)\n",
       "FedBN   (70, 78)  (85, 83)  (82, 85)"
      ]
     },
     "execution_count": 72,
     "metadata": {},
     "output_type": "execute_result"
    }
   ],
   "source": [
    "algs = [SiloBN, FedBN] \n",
    "opts = [ServerAdagrad, ServerYogi, ServerAdam] \n",
    "\n",
    "alg_names = ['SiloBN', 'FedBN']\n",
    "opt_names = ['Adagrad', 'Yogi', 'Adam']\n",
    "\n",
    "df = pd.DataFrame(index=alg_names, columns=opt_names, dtype=object)\n",
    "\n",
    "for alg, alg_name in zip(algs, alg_names):\n",
    "    for opt, opt_name in zip(opts, opt_names):\n",
    "        _, client1_acc, client2_acc = exp(alg, opt, verb=False, local_epochs=2, rounds=10, client_lr=0.001, server_lr=0.01)\n",
    "        \n",
    "        df.at[alg_name, opt_name] = (client1_acc, client2_acc)\n",
    "\n",
    "df.head()"
   ]
  },
  {
   "cell_type": "markdown",
   "id": "5fafda09-af21-467c-86c5-c649826788a4",
   "metadata": {},
   "source": [
    "ServerYogi and ServerAdam produced significantly better results. While it is clear that the prior experiments could have achieved similar outcomes with appropriate tuning of local epochs, rounds, and client/server learning rates, we maintained consistent parameters across experiments to display and fairly compare different strategies."
   ]
  },
  {
   "cell_type": "markdown",
   "id": "ec7e774a-5e9b-4abf-b2b3-c5ba13f27930",
   "metadata": {},
   "source": [
    "# References"
   ]
  },
  {
   "cell_type": "markdown",
   "id": "d8d11309-da9d-4e96-be52-221bf72d1799",
   "metadata": {},
   "source": [
    "[A Field Guide to Federated Optimization, Jianyu Wang et al. 2021](https://arxiv.org/abs/2107.06917)\n",
    "\n",
    "[Siloed federated learning for multi-centric histopathology datasets, Andreux et al. 2020](https://arxiv.org/abs/2008.07424)\n",
    "\n",
    "[Adaptive federated optimization, Reddi et al. 2020](https://arxiv.org/abs/2003.00295)\n",
    "\n",
    "[FedBN: Federated Learning on Non-IID Features via Local Batch Normalization, Li et al. 2021](https://arxiv.org/abs/2102.07623)\n",
    "\n",
    "[Communication-efficient learning of deep networks from decentralized data, McMahan et al. 2023](https://arxiv.org/abs/1602.05629)"
   ]
  },
  {
   "cell_type": "markdown",
   "id": "f30a381b-aba5-4eb3-afc6-a169dcbb465b",
   "metadata": {},
   "source": [
    "## Full derivations of (1) and (2)"
   ]
  },
  {
   "cell_type": "markdown",
   "id": "fbc7bccb-462d-42ac-ab57-07aa5060b76a",
   "metadata": {},
   "source": [
    "\\begin{align*}\n",
    "    x_{t+1} & = \\frac{1}{|\\mathcal{S}|} \\sum_{i \\in \\mathcal{S}} x_i^t = x_t - \\frac{1}{|\\mathcal{S}|} \\sum_{i \\in \\mathcal{S}} (x_t - x_i^t) \\\\\n",
    "            & =  x_t - \\frac{1}{|\\mathcal{S}|} (\\sum_{i \\in \\mathcal{S}} x_t - \\sum_{i \\in \\mathcal{S}} x_i^t) \\\\\n",
    "            & = x_t - \\frac{1}{|\\mathcal{S}|} \\left( |\\mathcal{S}| x_t - \\sum_{i \\in \\mathcal{S}} x_i^t \\right) \\\\\n",
    "            & = x_t - x_t + \\frac{1}{|\\mathcal{S}|} \\sum_{i \\in \\mathcal{S}} x_i^t \\\\\n",
    "            & = \\frac{1}{|\\mathcal{S}|} \\sum_{i \\in \\mathcal{S}} x_i^t\n",
    "\\end{align*}"
   ]
  },
  {
   "cell_type": "markdown",
   "id": "e795b5ea-fad6-43f1-9453-a1fec4371c99",
   "metadata": {},
   "source": [
    "**Weighted average case** : \n",
    "\n",
    "let $p_i = \\sum_{i \\in \\mathcal{D}_{\\mathcal{S}_i}} x_i$ and $m_t = \\sum_{i \\in \\mathcal{S}_i} p_i$. And FedAvg : \n",
    "\n",
    "\\begin{align*}\n",
    "    x_{t+1} =  \\frac{\\sum_{i \\in \\mathcal{S}} p_i}{m_t} x_i^t\n",
    "\\end{align*}\n",
    "\n",
    "Then FedOpt: \n",
    "\n",
    "\\begin{align*}\n",
    "    x_{t+1} & = x_t + \\frac{\\sum_{i \\in \\mathcal{S}} p_i \\Delta_i^t}{m_t} \\\\\n",
    "            & = x_t + \\frac{\\sum_{i \\in \\mathcal{S}} p_i (x_i^t - x_t)}{m_t}\\\\\n",
    "            & = x_t + \\frac{1}{m_t} (\\sum_{i \\in \\mathcal{S}} p_i x_i^t - \\sum_{i \\in \\mathcal{S}} p_i x_t))\\\\\n",
    "            & = x_t + \\frac{1}{m_t} (\\sum_{i \\in \\mathcal{S}} p_i x_i^t - m_t \\times x_t))\\\\\n",
    "            & = \\frac{\\sum_{i \\in \\mathcal{S}} p_i }{m_t} x_i^t \\\\\n",
    "\\end{align*}\n"
   ]
  }
 ],
 "metadata": {
  "kernelspec": {
   "display_name": "Python 3 (ipykernel)",
   "language": "python",
   "name": "python3"
  },
  "language_info": {
   "codemirror_mode": {
    "name": "ipython",
    "version": 3
   },
   "file_extension": ".py",
   "mimetype": "text/x-python",
   "name": "python",
   "nbconvert_exporter": "python",
   "pygments_lexer": "ipython3",
   "version": "3.11.7"
  }
 },
 "nbformat": 4,
 "nbformat_minor": 5
}
